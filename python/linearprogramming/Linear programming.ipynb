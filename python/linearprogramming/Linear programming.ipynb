{
 "cells": [
  {
   "cell_type": "markdown",
   "metadata": {},
   "source": [
    "# Linear programming\n",
    "\n",
    "A linear programming problem may be defined as the problem of maximizing or minimizing a linear function subject to linear constraints. The constraints may be equalities or inequalities. Here is a simple example: find numbers x1 and x2 that maximize the sum x1 + x2 subject to the constraints x1 ≥ 0, x2 ≥ 0, and\n",
    "```\n",
    "x1 + 2x2 ≤ 4 \n",
    "4x1 + 2x2 ≤ 12 \n",
    "−x1 + x2 ≤ 1\n",
    "```\n",
    "\n",
    "The first two constraints, x1 ≥ 0 and x2 ≥ 0 are called **nonnegativity constraints**. The other constraints are then called the **main constraints**. The function to be maximized (or minimized) is called the **objective function**. Here, the objective function is x1 + x2.\n",
    "\n",
    "Two classes of problems, called here the **standard maximum problem** and the **standard minimum problem**, play a special role. In these problems, all variables are constrained to be nonnegative, and all main constraints are inequalities.\n",
    "\n",
    "## Standard Maximum Problem\n",
    "\n",
    "We are given an m-vector, $b = \\begin{pmatrix}b_1 \\\\\\ ... \\\\\\ b_m\\end{pmatrix}$, an n-vector, $c = \\begin{pmatrix}c_1 \\\\\\ ... \\\\\\ c_n\\end{pmatrix}$, and an\n",
    "$m × n$ matrix of real numbers\n",
    "\n",
    "$$A = \\begin{pmatrix}\n",
    "a_{11} & a_{12} & ... & a_{1n}\\\\\\ \n",
    "a_{21} & a_{22} & ... & a_{2n}\\\\\\\n",
    "... & ... & ... & ...\\\\\\\n",
    "a_{m1} & a_{m2} & ... & a_{mn}\n",
    "\\end{pmatrix}$$\n",
    "\n",
    "Find an n-vector, $x = \\begin{pmatrix}x_1 \\\\\\ ... \\\\\\ x_n\\end{pmatrix}$ to maximize $\\mathbf{c}^T\\mathbf{x}$\n",
    "\n",
    "$$c_1x_1 + ... + c_nx_n$$\n",
    "\n",
    "subject to the constraints $\\mathbf{A}\\mathbf{x} \\le \\mathbf{b}$\n",
    "\n",
    "$$a_{11}x_1 + a_{12}x_2 + ... + a_{1n}x_n \\le b_1$$\n",
    "$$a_{21}x_1 + a_{22}x_2 + ... + a_{2n}x_n \\le b_2$$\n",
    "$$ ... $$\n",
    "$$a_{m1}x_1 + a_{m2}x_2 + ... + a_{mn}x_n \\le b_m$$\n",
    "\n",
    "and $\\mathbf{x} \\ge 0$\n",
    "\n",
    "$$x_1 \\ge 0, x_2 \\ge 0, ..., x_n \\ge 0 $$\n",
    "\n",
    "\n",
    "## Standard Minimum Problem\n",
    "\n",
    "Find an n-vector, $x = \\begin{pmatrix}x_1 \\\\\\ ... \\\\\\ x_n\\end{pmatrix}$ to minimize $\\mathbf{c}^T\\mathbf{x}$ subject to the constraints $\\mathbf{A}\\mathbf{x} \\ge \\mathbf{b}$ and $\\mathbf{x} \\ge 0$"
   ]
  },
  {
   "cell_type": "markdown",
   "metadata": {
    "collapsed": true
   },
   "source": [
    "### Example\n",
    "\n",
    "The initial example corresponds to the standard maximum problem, where:\n",
    "\n",
    "$c = \\begin{pmatrix}1 \\\\\\ 1\\end{pmatrix}$, $A = \\begin{pmatrix}\n",
    "1 & 2\\\\\\ \n",
    "4 & 2\\\\\\\n",
    "-1 & 1\n",
    "\\end{pmatrix}$ and $b = \\begin{pmatrix}4 \\\\\\ 12 \\\\\\ 1\\end{pmatrix}$\n",
    "\n",
    "The solutions are:"
   ]
  },
  {
   "cell_type": "code",
   "execution_count": 56,
   "metadata": {},
   "outputs": [
    {
     "name": "stdout",
     "output_type": "stream",
     "text": [
      "Status: Optimal\n",
      "x1 = 8/3\n",
      "x2 = 2/3\n",
      "max (x1 + x2) = 10/3\n"
     ]
    }
   ],
   "source": [
    "from pulp import *\n",
    "from fractions import Fraction\n",
    "\n",
    "prob = LpProblem(\"Example of standard maximum problem\",LpMaximize)\n",
    "\n",
    "# nonnegativity constraints\n",
    "x1=LpVariable(\"x1\",0)\n",
    "x2=LpVariable(\"x2\",0)\n",
    "\n",
    "# objective function\n",
    "prob += x1 + x2, \"Maximum value of x1 + x2\"\n",
    "\n",
    "# main constraints\n",
    "prob += x1 + 2*x2 <= 4, \"constraint 1\"\n",
    "prob += 4*x1 + 2*x2 <= 12, \"constraint 2\"\n",
    "prob += -x1 + x2 <= 1, \"constraint 3\"\n",
    "\n",
    "# The problem is solved using PuLP's choice of Solver\n",
    "prob.solve()\n",
    "\n",
    "# status of the solution\n",
    "print(f\"Status: {LpStatus[prob.status]}\")\n",
    "\n",
    "for v in prob.variables():\n",
    "    print(f\"{v.name} = {str(Fraction(v.varValue).limit_denominator())}\")\n",
    "    \n",
    "# maximum value of the objective function\n",
    "print(f\"max (x1 + x2) = {str(Fraction(value(prob.objective)).limit_denominator())}\")"
   ]
  },
  {
   "cell_type": "markdown",
   "metadata": {},
   "source": [
    "The importance of the standard problem derives from the fact that all linear programming problems can be converted to standard form.\n",
    "\n",
    "What is more, a minimum problem can be changed to a maximum problem by:\n",
    "* multiplying the objective function by -1 \n",
    "* multiplying the constraint inequalities by  -1 and reversing the inequalities\n",
    "\n",
    "Let's prove it by changing the previous example to a minimum problem:"
   ]
  },
  {
   "cell_type": "code",
   "execution_count": 57,
   "metadata": {
    "scrolled": true
   },
   "outputs": [
    {
     "name": "stdout",
     "output_type": "stream",
     "text": [
      "Status: Optimal\n",
      "x1 = 8/3\n",
      "x2 = 2/3\n",
      "min (x1 + x2) = -10/3\n"
     ]
    }
   ],
   "source": [
    "from pulp import *\n",
    "from fractions import Fraction\n",
    "\n",
    "prob = LpProblem(\"Example of standard minimum problem\",LpMinimize)\n",
    "\n",
    "# nonnegativity constraints\n",
    "x1=LpVariable(\"x1\",0)\n",
    "x2=LpVariable(\"x2\",0)\n",
    "\n",
    "# objective function\n",
    "prob += -x1 - x2, \"Minimum value of -x1 - x2\"\n",
    "\n",
    "# main constraints\n",
    "prob += -x1 - 2*x2 >= -4, \"constraint 1\"\n",
    "prob += -4*x1 - 2*x2 >= -12, \"constraint 2\"\n",
    "prob += x1 - x2 >= -1, \"constraint 3\"\n",
    "\n",
    "# The problem is solved using PuLP's choice of Solver\n",
    "prob.solve()\n",
    "\n",
    "# status of the solution\n",
    "print(f\"Status: {LpStatus[prob.status]}\")\n",
    "\n",
    "for v in prob.variables():\n",
    "    print(f\"{v.name} = {str(Fraction(v.varValue).limit_denominator())}\")\n",
    "    \n",
    "# maximum value of the objective function\n",
    "print(f\"min (-x1 - x2) = {str(Fraction(value(prob.objective)).limit_denominator())}\")"
   ]
  },
  {
   "cell_type": "markdown",
   "metadata": {},
   "source": [
    "## Duality\n",
    "\n",
    "To every linear program there is a dual linear program.\n",
    "The dual of the standard maximum problem (as defined above) is defined to be the standard minimum problem:\n",
    "\n",
    "Find an m-vector, $y = \\begin{pmatrix}y_1 \\\\\\ ... \\\\\\ y_m\\end{pmatrix}$ to minimize $\\mathbf{y}^T\\mathbf{b}$ subject to the constraints $\\mathbf{y}^T\\mathbf{A} \\ge \\mathbf{c}^T$ and $\\mathbf{y} \\ge 0$.\n",
    "\n",
    "Therefore, the dual problem of the initial example is:"
   ]
  },
  {
   "cell_type": "code",
   "execution_count": 58,
   "metadata": {},
   "outputs": [
    {
     "name": "stdout",
     "output_type": "stream",
     "text": [
      "Status: Optimal\n",
      "y1 = 1/3\n",
      "y2 = 1/6\n",
      "y3 = 0\n",
      "min (4*y1 + 12*y2 + y3) = 10/3\n"
     ]
    }
   ],
   "source": [
    "from pulp import *\n",
    "from fractions import Fraction\n",
    "\n",
    "prob = LpProblem(\"Dual problem\",LpMinimize)\n",
    "\n",
    "# nonnegativity constraints\n",
    "y1=LpVariable(\"y1\",0)\n",
    "y2=LpVariable(\"y2\",0)\n",
    "y3=LpVariable(\"y3\",0)\n",
    "\n",
    "# objective function\n",
    "prob += 4*y1 + 12*y2 + y3, \"Minimum value of 4*y1 + 12*y2 + y3\"\n",
    "\n",
    "# main constraints\n",
    "prob += y1 + 4*y2 - y3 >= 1, \"constraint 1\"\n",
    "prob += 2*y1 + 2*y2 + y3 >= 1, \"constraint 2\"\n",
    "\n",
    "# The problem is solved using PuLP's choice of Solver\n",
    "prob.solve()\n",
    "\n",
    "# status of the solution\n",
    "print(f\"Status: {LpStatus[prob.status]}\")\n",
    "\n",
    "for v in prob.variables():\n",
    "    print(f\"{v.name} = {str(Fraction(v.varValue).limit_denominator())}\")\n",
    "    \n",
    "# maximum value of the objective function\n",
    "print(f\"min (4*y1 + 12*y2 + y3) = {str(Fraction(value(prob.objective)).limit_denominator())}\")"
   ]
  },
  {
   "cell_type": "markdown",
   "metadata": {},
   "source": [
    "As the reader must have noticed, the number of main constraints of the standard problem equals the number of nonnegative constraints of its dual. According to the **Equilibrium Theorem**, strict inequality in a constraint in a standard problem implies that the complementary constraint in the dual is satisfied with equality, and viceversa.\n",
    "\n",
    "Let's verify that assertion:"
   ]
  },
  {
   "cell_type": "code",
   "execution_count": 59,
   "metadata": {},
   "outputs": [
    {
     "name": "stdout",
     "output_type": "stream",
     "text": [
      "True\n",
      "True\n"
     ]
    }
   ],
   "source": [
    "print([x1 + 2*x2 == 4, 4*x1 + 2*x2 == 12, -x1 + x2 == 1] == [not x for x in [y1.varValue == 0, y2.varValue == 0, y3.varValue == 0]])\n",
    "print([y1 + 4*y2 - y3 == 1, 2*y1 + 2*y2 + y3 == 1] == [not x for x in [x1.varValue == 0, x2.varValue == 0]])"
   ]
  },
  {
   "cell_type": "markdown",
   "metadata": {},
   "source": [
    "Although, in this case, the value of the objective function corresponding to the vectors $\\mathbf{x}$ and $\\mathbf{y}$ is the same, this is not always true. It can be proved that, when this is true, the solution is optimal for both problems.\n",
    "\n",
    "More generally, the values of the standard objective function (compatible with its constraints) are always ≤ than the values of the dual objective function (compatible with its constraints). In other words, the dual problem provides an upper bound to the optimal value of the original problem."
   ]
  }
 ],
 "metadata": {
  "kernelspec": {
   "display_name": "Python 3",
   "language": "python",
   "name": "python3"
  },
  "language_info": {
   "codemirror_mode": {
    "name": "ipython",
    "version": 3
   },
   "file_extension": ".py",
   "mimetype": "text/x-python",
   "name": "python",
   "nbconvert_exporter": "python",
   "pygments_lexer": "ipython3",
   "version": "3.6.3"
  }
 },
 "nbformat": 4,
 "nbformat_minor": 2
}
