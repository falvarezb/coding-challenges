{
 "cells": [
  {
   "cell_type": "code",
   "execution_count": null,
   "id": "91b50c35",
   "metadata": {},
   "outputs": [
    {
     "ename": "",
     "evalue": "",
     "output_type": "error",
     "traceback": [
      "\u001b[1;31mRunning cells with 'coding-challenges (Python 3.11.3)' requires the ipykernel package.\n",
      "\u001b[1;31mRun the following command to install 'ipykernel' into the Python environment. \n",
      "\u001b[1;31mCommand: '/Users/franciscoalvarez/.pyenv/versions/3.11.3/envs/coding-challenges/bin/python -m pip install ipykernel -U --force-reinstall'"
     ]
    }
   ],
   "source": [
    "%load_ext autoreload\n",
    "%autoreload 2"
   ]
  },
  {
   "cell_type": "code",
   "execution_count": null,
   "id": "0cb90174",
   "metadata": {},
   "outputs": [
    {
     "ename": "",
     "evalue": "",
     "output_type": "error",
     "traceback": [
      "\u001b[1;31mRunning cells with 'coding-challenges (Python 3.11.3)' requires the ipykernel package.\n",
      "\u001b[1;31mRun the following command to install 'ipykernel' into the Python environment. \n",
      "\u001b[1;31mCommand: '/Users/franciscoalvarez/.pyenv/versions/3.11.3/envs/coding-challenges/bin/python -m pip install ipykernel -U --force-reinstall'"
     ]
    }
   ],
   "source": [
    "from optimalstopping import best_candidate_probability,best_candidate_probability_sim,best_candidate_probability_sim_optimised,optimalr,rejection_sim,recall_sim\n",
    "import numpy as np\n",
    "import matplotlib.pyplot as plt\n",
    "import math"
   ]
  },
  {
   "cell_type": "code",
   "execution_count": null,
   "id": "c1bd3fc0",
   "metadata": {},
   "outputs": [
    {
     "ename": "",
     "evalue": "",
     "output_type": "error",
     "traceback": [
      "\u001b[1;31mRunning cells with 'coding-challenges (Python 3.11.3)' requires the ipykernel package.\n",
      "\u001b[1;31mRun the following command to install 'ipykernel' into the Python environment. \n",
      "\u001b[1;31mCommand: '/Users/franciscoalvarez/.pyenv/versions/3.11.3/envs/coding-challenges/bin/python -m pip install ipykernel -U --force-reinstall'"
     ]
    }
   ],
   "source": [
    "theor_probability=1/math.e\n",
    "def plot_probability(n,f,theor_value):\n",
    "    '''\n",
    "    plot probability function f(n,r) for values r=1...n-2\n",
    "    '''\n",
    "    x = np.linspace(1, n-2, n-2,dtype=int)\n",
    "    y = [f(n,x) for x in range(1,n-1)]\n",
    "    e = [theor_value]*len(x) # theoretical rmax (1/e ~ 0.37)\n",
    "\n",
    "    fig, ax = plt.subplots()\n",
    "    ax.plot(x, y, label=\"probability\")\n",
    "    ax.plot(e,y, label=\"theoretical rmax\")\n",
    "    ax.set_xlabel('r')\n",
    "    ax.set_ylabel('probability')\n",
    "    ax.set_title(f'n={n}')\n",
    "    ax.legend()\n",
    "    plt.show()\n",
    "    \n",
    "def plot_optimalr(n0,n,f,theor_value):\n",
    "    '''\n",
    "    plot optimal 'r' of function f for values n=n0...n\n",
    "    x0 must satisfy these conditions: n0>=3 and n0<n\n",
    "    '''\n",
    "    assert n0>=3 and n0<n\n",
    "    numx=n-n0+1\n",
    "    x = np.linspace(n0, n, numx,dtype=int)\n",
    "    y = [optimalr(j,f)[0] for j in range(n0,n+1)]\n",
    "    c = [theor_value]*numx\n",
    "\n",
    "    fig, ax = plt.subplots()\n",
    "    ax.plot(x, y, label=\"rmax\")\n",
    "    ax.plot(x, c, label=\"theoretical rmax\")\n",
    "    ax.set_xlabel('n')\n",
    "    ax.set_ylabel('rmax')\n",
    "    ax.set_title('Optimal number of rejections')\n",
    "    ax.legend()\n",
    "    plt.show()\n",
    "    \n",
    "def plot_optimal_prob(n0,n,f,theor_value):\n",
    "    '''\n",
    "    plot optimal prob of function f for values n=n0...n\n",
    "    x0 must satisfy these conditions: n0>=3 and n0<n\n",
    "    '''\n",
    "    assert n0>=3 and n0<n\n",
    "    numx=n-n0+1\n",
    "    x = np.linspace(n0, n, numx,dtype=int)\n",
    "    y = [optimalr(j,f)[1] for j in range(n0,n+1)]\n",
    "    c = [theor_value]*numx\n",
    "\n",
    "    fig, ax = plt.subplots()\n",
    "    ax.plot(x, y, label=\"max probability\")\n",
    "    ax.plot(x, c, label=\"theoretical max\")\n",
    "    ax.set_xlabel('n')\n",
    "    ax.set_ylabel('max probability')\n",
    "    ax.set_title('max probability convergence')\n",
    "    ax.legend()\n",
    "    plt.show()\n",
    "    "
   ]
  },
  {
   "cell_type": "code",
   "execution_count": null,
   "id": "ec72fe89",
   "metadata": {
    "scrolled": false
   },
   "outputs": [
    {
     "ename": "",
     "evalue": "",
     "output_type": "error",
     "traceback": [
      "\u001b[1;31mRunning cells with 'coding-challenges (Python 3.11.3)' requires the ipykernel package.\n",
      "\u001b[1;31mRun the following command to install 'ipykernel' into the Python environment. \n",
      "\u001b[1;31mCommand: '/Users/franciscoalvarez/.pyenv/versions/3.11.3/envs/coding-challenges/bin/python -m pip install ipykernel -U --force-reinstall'"
     ]
    }
   ],
   "source": [
    "n=50\n",
    "plot_probability(n,best_candidate_probability,n*theor_probability)\n",
    "plot_probability(n,best_candidate_probability_sim_optimised,n*theor_probability)"
   ]
  },
  {
   "cell_type": "code",
   "execution_count": null,
   "id": "81c32fe1",
   "metadata": {},
   "outputs": [
    {
     "ename": "",
     "evalue": "",
     "output_type": "error",
     "traceback": [
      "\u001b[1;31mRunning cells with 'coding-challenges (Python 3.11.3)' requires the ipykernel package.\n",
      "\u001b[1;31mRun the following command to install 'ipykernel' into the Python environment. \n",
      "\u001b[1;31mCommand: '/Users/franciscoalvarez/.pyenv/versions/3.11.3/envs/coding-challenges/bin/python -m pip install ipykernel -U --force-reinstall'"
     ]
    }
   ],
   "source": [
    "plot_probability(8,recall_sim)"
   ]
  },
  {
   "cell_type": "code",
   "execution_count": null,
   "id": "94dc0ada",
   "metadata": {},
   "outputs": [
    {
     "ename": "",
     "evalue": "",
     "output_type": "error",
     "traceback": [
      "\u001b[1;31mRunning cells with 'coding-challenges (Python 3.11.3)' requires the ipykernel package.\n",
      "\u001b[1;31mRun the following command to install 'ipykernel' into the Python environment. \n",
      "\u001b[1;31mCommand: '/Users/franciscoalvarez/.pyenv/versions/3.11.3/envs/coding-challenges/bin/python -m pip install ipykernel -U --force-reinstall'"
     ]
    }
   ],
   "source": [
    "[rejection_sim(5,x) for x in range(1,4)]"
   ]
  },
  {
   "cell_type": "code",
   "execution_count": null,
   "id": "173c0c0f",
   "metadata": {},
   "outputs": [
    {
     "ename": "",
     "evalue": "",
     "output_type": "error",
     "traceback": [
      "\u001b[1;31mRunning cells with 'coding-challenges (Python 3.11.3)' requires the ipykernel package.\n",
      "\u001b[1;31mRun the following command to install 'ipykernel' into the Python environment. \n",
      "\u001b[1;31mCommand: '/Users/franciscoalvarez/.pyenv/versions/3.11.3/envs/coding-challenges/bin/python -m pip install ipykernel -U --force-reinstall'"
     ]
    }
   ],
   "source": []
  },
  {
   "cell_type": "code",
   "execution_count": null,
   "id": "6221b89c",
   "metadata": {},
   "outputs": [
    {
     "ename": "",
     "evalue": "",
     "output_type": "error",
     "traceback": [
      "\u001b[1;31mRunning cells with 'coding-challenges (Python 3.11.3)' requires the ipykernel package.\n",
      "\u001b[1;31mRun the following command to install 'ipykernel' into the Python environment. \n",
      "\u001b[1;31mCommand: '/Users/franciscoalvarez/.pyenv/versions/3.11.3/envs/coding-challenges/bin/python -m pip install ipykernel -U --force-reinstall'"
     ]
    }
   ],
   "source": [
    "plot_optimalr(3,100,best_candidate_probability,theor_probability)\n",
    "plot_optimalr(3,100,best_candidate_probability_sim_optimised,theor_probability)"
   ]
  },
  {
   "cell_type": "code",
   "execution_count": null,
   "id": "e3028e74",
   "metadata": {},
   "outputs": [
    {
     "ename": "",
     "evalue": "",
     "output_type": "error",
     "traceback": [
      "\u001b[1;31mRunning cells with 'coding-challenges (Python 3.11.3)' requires the ipykernel package.\n",
      "\u001b[1;31mRun the following command to install 'ipykernel' into the Python environment. \n",
      "\u001b[1;31mCommand: '/Users/franciscoalvarez/.pyenv/versions/3.11.3/envs/coding-challenges/bin/python -m pip install ipykernel -U --force-reinstall'"
     ]
    }
   ],
   "source": [
    "plot_optimalr(700,2000,best_candidate_probability,theor_probability)"
   ]
  },
  {
   "cell_type": "markdown",
   "id": "a5d0e039",
   "metadata": {},
   "source": [
    "## Variant: rejection"
   ]
  },
  {
   "cell_type": "code",
   "execution_count": null,
   "id": "259883f0",
   "metadata": {},
   "outputs": [
    {
     "ename": "",
     "evalue": "",
     "output_type": "error",
     "traceback": [
      "\u001b[1;31mRunning cells with 'coding-challenges (Python 3.11.3)' requires the ipykernel package.\n",
      "\u001b[1;31mRun the following command to install 'ipykernel' into the Python environment. \n",
      "\u001b[1;31mCommand: '/Users/franciscoalvarez/.pyenv/versions/3.11.3/envs/coding-challenges/bin/python -m pip install ipykernel -U --force-reinstall'"
     ]
    }
   ],
   "source": [
    "n=5\n",
    "plot_probability(n,rejection_sim,n/4)"
   ]
  },
  {
   "cell_type": "code",
   "execution_count": null,
   "id": "3483236c",
   "metadata": {
    "scrolled": true
   },
   "outputs": [
    {
     "ename": "",
     "evalue": "",
     "output_type": "error",
     "traceback": [
      "\u001b[1;31mRunning cells with 'coding-challenges (Python 3.11.3)' requires the ipykernel package.\n",
      "\u001b[1;31mRun the following command to install 'ipykernel' into the Python environment. \n",
      "\u001b[1;31mCommand: '/Users/franciscoalvarez/.pyenv/versions/3.11.3/envs/coding-challenges/bin/python -m pip install ipykernel -U --force-reinstall'"
     ]
    }
   ],
   "source": [
    "plot_optimalr(3,8,rejection_sim,1/4)"
   ]
  },
  {
   "cell_type": "code",
   "execution_count": null,
   "id": "a5c83053",
   "metadata": {},
   "outputs": [
    {
     "ename": "",
     "evalue": "",
     "output_type": "error",
     "traceback": [
      "\u001b[1;31mRunning cells with 'coding-challenges (Python 3.11.3)' requires the ipykernel package.\n",
      "\u001b[1;31mRun the following command to install 'ipykernel' into the Python environment. \n",
      "\u001b[1;31mCommand: '/Users/franciscoalvarez/.pyenv/versions/3.11.3/envs/coding-challenges/bin/python -m pip install ipykernel -U --force-reinstall'"
     ]
    }
   ],
   "source": [
    "plot_optimal_prob(3,8,rejection_sim,1/4)"
   ]
  },
  {
   "cell_type": "markdown",
   "id": "70b68e00",
   "metadata": {},
   "source": [
    "## Variant: recall"
   ]
  },
  {
   "cell_type": "code",
   "execution_count": null,
   "id": "9fe7150d",
   "metadata": {},
   "outputs": [
    {
     "ename": "",
     "evalue": "",
     "output_type": "error",
     "traceback": [
      "\u001b[1;31mRunning cells with 'coding-challenges (Python 3.11.3)' requires the ipykernel package.\n",
      "\u001b[1;31mRun the following command to install 'ipykernel' into the Python environment. \n",
      "\u001b[1;31mCommand: '/Users/franciscoalvarez/.pyenv/versions/3.11.3/envs/coding-challenges/bin/python -m pip install ipykernel -U --force-reinstall'"
     ]
    }
   ],
   "source": [
    "plot_optimalr(7,3,recall_sim)"
   ]
  },
  {
   "cell_type": "code",
   "execution_count": null,
   "id": "cd50179f",
   "metadata": {},
   "outputs": [
    {
     "ename": "",
     "evalue": "",
     "output_type": "error",
     "traceback": [
      "\u001b[1;31mRunning cells with 'coding-challenges (Python 3.11.3)' requires the ipykernel package.\n",
      "\u001b[1;31mRun the following command to install 'ipykernel' into the Python environment. \n",
      "\u001b[1;31mCommand: '/Users/franciscoalvarez/.pyenv/versions/3.11.3/envs/coding-challenges/bin/python -m pip install ipykernel -U --force-reinstall'"
     ]
    }
   ],
   "source": []
  },
  {
   "cell_type": "code",
   "execution_count": null,
   "id": "50ce9b3b",
   "metadata": {},
   "outputs": [
    {
     "ename": "",
     "evalue": "",
     "output_type": "error",
     "traceback": [
      "\u001b[1;31mRunning cells with 'coding-challenges (Python 3.11.3)' requires the ipykernel package.\n",
      "\u001b[1;31mRun the following command to install 'ipykernel' into the Python environment. \n",
      "\u001b[1;31mCommand: '/Users/franciscoalvarez/.pyenv/versions/3.11.3/envs/coding-challenges/bin/python -m pip install ipykernel -U --force-reinstall'"
     ]
    }
   ],
   "source": [
    "plot_optimalr(100,3,best_candidate_probability)\n",
    "plot_optimalr(100,3,best_candidate_probability_sim_optimised)"
   ]
  },
  {
   "cell_type": "code",
   "execution_count": null,
   "id": "7604b109",
   "metadata": {},
   "outputs": [
    {
     "ename": "",
     "evalue": "",
     "output_type": "error",
     "traceback": [
      "\u001b[1;31mRunning cells with 'coding-challenges (Python 3.11.3)' requires the ipykernel package.\n",
      "\u001b[1;31mRun the following command to install 'ipykernel' into the Python environment. \n",
      "\u001b[1;31mCommand: '/Users/franciscoalvarez/.pyenv/versions/3.11.3/envs/coding-challenges/bin/python -m pip install ipykernel -U --force-reinstall'"
     ]
    }
   ],
   "source": [
    "optimalr(3,best_candidate_probability)"
   ]
  },
  {
   "cell_type": "code",
   "execution_count": null,
   "id": "2ec6fb80",
   "metadata": {},
   "outputs": [
    {
     "ename": "",
     "evalue": "",
     "output_type": "error",
     "traceback": [
      "\u001b[1;31mRunning cells with 'coding-challenges (Python 3.11.3)' requires the ipykernel package.\n",
      "\u001b[1;31mRun the following command to install 'ipykernel' into the Python environment. \n",
      "\u001b[1;31mCommand: '/Users/franciscoalvarez/.pyenv/versions/3.11.3/envs/coding-challenges/bin/python -m pip install ipykernel -U --force-reinstall'"
     ]
    }
   ],
   "source": []
  }
 ],
 "metadata": {
  "kernelspec": {
   "display_name": "Python 3 (ipykernel)",
   "language": "python",
   "name": "python3"
  },
  "language_info": {
   "codemirror_mode": {
    "name": "ipython",
    "version": 3
   },
   "file_extension": ".py",
   "mimetype": "text/x-python",
   "name": "python",
   "nbconvert_exporter": "python",
   "pygments_lexer": "ipython3",
   "version": "3.11.3"
  }
 },
 "nbformat": 4,
 "nbformat_minor": 5
}
